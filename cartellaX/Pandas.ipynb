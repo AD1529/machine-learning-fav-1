{
  "nbformat": 4,
  "nbformat_minor": 0,
  "metadata": {
    "colab": {
      "name": "Pandas.ipynb",
      "provenance": [],
      "collapsed_sections": [],
      "authorship_tag": "ABX9TyMXLYqjIVLVixiZ9QiwKajV",
      "include_colab_link": true
    },
    "kernelspec": {
      "name": "python3",
      "display_name": "Python 3"
    }
  },
  "cells": [
    {
      "cell_type": "markdown",
      "metadata": {
        "id": "view-in-github",
        "colab_type": "text"
      },
      "source": [
        "<a href=\"https://colab.research.google.com/github/visiont3lab/machine-learning-fav/blob/master/cartellaX/Pandas.ipynb\" target=\"_parent\"><img src=\"https://colab.research.google.com/assets/colab-badge.svg\" alt=\"Open In Colab\"/></a>"
      ]
    },
    {
      "cell_type": "markdown",
      "metadata": {
        "id": "K54vei1zx9xr",
        "colab_type": "text"
      },
      "source": [
        "# Preparazione"
      ]
    },
    {
      "cell_type": "code",
      "metadata": {
        "id": "slEAie-TzADU",
        "colab_type": "code",
        "colab": {}
      },
      "source": [
        "!pip gfgflist"
      ],
      "execution_count": null,
      "outputs": []
    },
    {
      "cell_type": "code",
      "metadata": {
        "id": "5Inim3pgzP1M",
        "colab_type": "code",
        "colab": {}
      },
      "source": [
        "pip install seaborn matplotlib pandas"
      ],
      "execution_count": null,
      "outputs": []
    },
    {
      "cell_type": "code",
      "metadata": {
        "id": "VA0fQ6pQ4I5x",
        "colab_type": "code",
        "colab": {}
      },
      "source": [
        "!pip install  names"
      ],
      "execution_count": null,
      "outputs": []
    },
    {
      "cell_type": "markdown",
      "metadata": {
        "id": "gfTvCzeXxbTz",
        "colab_type": "text"
      },
      "source": [
        "# Pandas\n",
        "\n",
        "* [Pandas Get started Documentation](https://pandas.pydata.org/pandas-docs/stable/getting_started/index.html#getting-started)\n",
        "* [Dataset italia covid 19](https://github.com/pcm-dpc/COVID-19)\n",
        "* [Dataset mondo covid 19](https://github.com/open-covid-19/data)\n"
      ]
    },
    {
      "cell_type": "markdown",
      "metadata": {
        "id": "ugmgqKcgGt7E",
        "colab_type": "text"
      },
      "source": [
        "## Dataframe and Basic operations"
      ]
    },
    {
      "cell_type": "code",
      "metadata": {
        "id": "AcCZSCXCy8iJ",
        "colab_type": "code",
        "colab": {}
      },
      "source": [
        "import pandas as pd"
      ],
      "execution_count": null,
      "outputs": []
    },
    {
      "cell_type": "code",
      "metadata": {
        "id": "E17w0Bwh1HKr",
        "colab_type": "code",
        "colab": {}
      },
      "source": [
        "# Datafrane (dict-like container for Series Object)\n",
        "# Each column of a dataframe is a Series\n",
        "content = {\n",
        "    \"Nome\": [\"Manuel\", \"Giada\", \"Marco\", \"Francesca\"],\n",
        "    \"Età\" : [\"26\", \"25\", \"28\", \"29\"],\n",
        "    \"Sesso\": [\"M\", \"F\", \"M\", \"F\"]\n",
        "}\n",
        "df = pd.DataFrame(content, index=[4,5,6,7] )\n",
        "#display(df)\n",
        "df"
      ],
      "execution_count": null,
      "outputs": []
    },
    {
      "cell_type": "code",
      "metadata": {
        "id": "E62dcd7hA6tB",
        "colab_type": "code",
        "colab": {}
      },
      "source": [
        "df.keys()\n",
        "# Accedere a tutte le colonne e selezionare qualcosa\n",
        "for name in df.keys():\n",
        "    print(name) "
      ],
      "execution_count": null,
      "outputs": []
    },
    {
      "cell_type": "code",
      "metadata": {
        "id": "Z28DBrsgBHbT",
        "colab_type": "code",
        "colab": {}
      },
      "source": [
        "arr = df.values\n",
        "display(arr)\n",
        "display(arr.shape)\n",
        "arr[1,0]"
      ],
      "execution_count": null,
      "outputs": []
    },
    {
      "cell_type": "code",
      "metadata": {
        "id": "AJgELIiU2hff",
        "colab_type": "code",
        "colab": {}
      },
      "source": [
        "df_sorted = df.sort_values(by=\"Età\", ascending=True)\n",
        "display(df_sorted.head())\n",
        "df_sorted = df_sorted.reset_index()\n",
        "display(df_sorted.head())"
      ],
      "execution_count": null,
      "outputs": []
    },
    {
      "cell_type": "code",
      "metadata": {
        "id": "3JVxdhsX6fdb",
        "colab_type": "code",
        "colab": {}
      },
      "source": [
        "import names\n",
        "import numpy as np"
      ],
      "execution_count": null,
      "outputs": []
    },
    {
      "cell_type": "code",
      "metadata": {
        "id": "_p8kbqeo6Z1t",
        "colab_type": "code",
        "colab": {}
      },
      "source": [
        "list_names = []\n",
        "list_surnames = []\n",
        "list_nums = []\n",
        "for i in range(0,30):\n",
        "    num = np.random.randint(20,30,1)[0]\n",
        "    #name = names.get_full_name()\n",
        "    name = names.get_first_name()\n",
        "    surname = names.get_last_name()\n",
        "    #list_names.append([name, surname])\n",
        "    list_names.append(name)\n",
        "    list_surnames.append(surname)\n",
        "    list_nums.append(num)\n",
        "\n",
        "    #display(name)\n",
        "display(list_names)\n",
        "display(list_surnames)\n",
        "display(list_nums)"
      ],
      "execution_count": null,
      "outputs": []
    },
    {
      "cell_type": "code",
      "metadata": {
        "id": "QTXVEYkK8bMf",
        "colab_type": "code",
        "colab": {}
      },
      "source": [
        "# Datafrane (dict-like container for Series Object)\n",
        "# Each column of a dataframe is a Series\n",
        "name_series = pd.Series(list_names, name=\"Nome\")\n",
        "surname_series = pd.Series(list_surnames, name=\"Cognomi\")\n",
        "age_series = pd.Series(list_nums, name=\"Età\")\n",
        "\n",
        "content = [name_series,surname_series,age_series]\n",
        "\n",
        "df = pd.DataFrame(content).T\n",
        "#display(df)\n",
        "display(df.head())\n",
        "#display(df.tail())\n",
        "display(df.describe())"
      ],
      "execution_count": null,
      "outputs": []
    },
    {
      "cell_type": "code",
      "metadata": {
        "id": "kk7BsofC6tcW",
        "colab_type": "code",
        "colab": {}
      },
      "source": [
        "# Datafrane (dict-like container for Series Object)\n",
        "# Each column of a dataframe is a Series\n",
        "content = {\n",
        "    \"Nome\": list_names,\n",
        "    \"Cognomi\": list_surnames,\n",
        "    \"Età\" : list_nums\n",
        "}\n",
        "df = pd.DataFrame(content )\n",
        "#display(df)\n",
        "display(df.head())\n",
        "#display(df.tail())\n",
        "display(df.describe())"
      ],
      "execution_count": null,
      "outputs": []
    },
    {
      "cell_type": "code",
      "metadata": {
        "id": "AJc7UWIK69I7",
        "colab_type": "code",
        "colab": {}
      },
      "source": [
        "display(df.sort_values(by=\"Età\", ascending=False))"
      ],
      "execution_count": null,
      "outputs": []
    },
    {
      "cell_type": "code",
      "metadata": {
        "id": "nJJy1aqO7TBj",
        "colab_type": "code",
        "colab": {}
      },
      "source": [
        "df[\"Età\"][0:4]"
      ],
      "execution_count": null,
      "outputs": []
    },
    {
      "cell_type": "code",
      "metadata": {
        "id": "vPK3MNCg_foL",
        "colab_type": "code",
        "colab": {}
      },
      "source": [
        "df[[\"Età\",\"Cognomi\"]][0:4]"
      ],
      "execution_count": null,
      "outputs": []
    },
    {
      "cell_type": "code",
      "metadata": {
        "id": "gEicM0xjAO0W",
        "colab_type": "code",
        "colab": {}
      },
      "source": [
        "#df[df[\"Età\"]==20]\n",
        "df[(df[\"Età\"]>20) & (df[\"Età\"]<=24)]"
      ],
      "execution_count": null,
      "outputs": []
    },
    {
      "cell_type": "code",
      "metadata": {
        "id": "BknY0fooAvHB",
        "colab_type": "code",
        "colab": {}
      },
      "source": [
        "# Ricerca lettera\n",
        "df[df[\"Nome\"].str.contains(\"D|M\") | df[\"Cognomi\"].str.contains(\"D|M\")]"
      ],
      "execution_count": null,
      "outputs": []
    },
    {
      "cell_type": "code",
      "metadata": {
        "id": "6i3-q0rwEFel",
        "colab_type": "code",
        "colab": {}
      },
      "source": [
        "# Assegnare una colonna (replace method)\n",
        "df[\"Nome\"] = df[\"Nome\"].str.replace(\"e\",\",\")\n",
        "df"
      ],
      "execution_count": null,
      "outputs": []
    },
    {
      "cell_type": "code",
      "metadata": {
        "id": "0Dxu6mvkFCcG",
        "colab_type": "code",
        "colab": {}
      },
      "source": [
        "df[\"Nome\"] = df[\"Nome\"].str.replace(\",\",\"e\")\n",
        "df"
      ],
      "execution_count": null,
      "outputs": []
    },
    {
      "cell_type": "markdown",
      "metadata": {
        "id": "emrfEV6TG4Qf",
        "colab_type": "text"
      },
      "source": [
        "## Csv and Excel Read and Write, selezionare tabelle specifiche"
      ]
    },
    {
      "cell_type": "code",
      "metadata": {
        "id": "7GULa3XqKp-w",
        "colab_type": "code",
        "colab": {
          "base_uri": "https://localhost:8080/",
          "height": 391
        },
        "outputId": "75b3c1b8-de73-42fe-e2fb-9d1980e05d7e"
      },
      "source": [
        "# Dataset mondo covid 19\n",
        "data = pd.read_csv('https://open-covid-19.github.io/data/data.csv')\n",
        "data"
      ],
      "execution_count": null,
      "outputs": [
        {
          "output_type": "execute_result",
          "data": {
            "text/html": [
              "<div>\n",
              "<style scoped>\n",
              "    .dataframe tbody tr th:only-of-type {\n",
              "        vertical-align: middle;\n",
              "    }\n",
              "\n",
              "    .dataframe tbody tr th {\n",
              "        vertical-align: top;\n",
              "    }\n",
              "\n",
              "    .dataframe thead th {\n",
              "        text-align: right;\n",
              "    }\n",
              "</style>\n",
              "<table border=\"1\" class=\"dataframe\">\n",
              "  <thead>\n",
              "    <tr style=\"text-align: right;\">\n",
              "      <th></th>\n",
              "      <th>Date</th>\n",
              "      <th>CountryCode</th>\n",
              "      <th>CountryName</th>\n",
              "      <th>RegionCode</th>\n",
              "      <th>RegionName</th>\n",
              "      <th>Confirmed</th>\n",
              "      <th>Deaths</th>\n",
              "      <th>Latitude</th>\n",
              "      <th>Longitude</th>\n",
              "      <th>Population</th>\n",
              "    </tr>\n",
              "  </thead>\n",
              "  <tbody>\n",
              "    <tr>\n",
              "      <th>0</th>\n",
              "      <td>2019-12-31</td>\n",
              "      <td>AE</td>\n",
              "      <td>United Arab Emirates</td>\n",
              "      <td>NaN</td>\n",
              "      <td>NaN</td>\n",
              "      <td>0.0</td>\n",
              "      <td>0.0</td>\n",
              "      <td>23.424076</td>\n",
              "      <td>53.847818</td>\n",
              "      <td>9770529.0</td>\n",
              "    </tr>\n",
              "    <tr>\n",
              "      <th>1</th>\n",
              "      <td>2019-12-31</td>\n",
              "      <td>AF</td>\n",
              "      <td>Afghanistan</td>\n",
              "      <td>NaN</td>\n",
              "      <td>NaN</td>\n",
              "      <td>0.0</td>\n",
              "      <td>0.0</td>\n",
              "      <td>33.939110</td>\n",
              "      <td>67.709953</td>\n",
              "      <td>38041754.0</td>\n",
              "    </tr>\n",
              "    <tr>\n",
              "      <th>2</th>\n",
              "      <td>2019-12-31</td>\n",
              "      <td>AM</td>\n",
              "      <td>Armenia</td>\n",
              "      <td>NaN</td>\n",
              "      <td>NaN</td>\n",
              "      <td>0.0</td>\n",
              "      <td>0.0</td>\n",
              "      <td>40.069099</td>\n",
              "      <td>45.038189</td>\n",
              "      <td>2957731.0</td>\n",
              "    </tr>\n",
              "    <tr>\n",
              "      <th>3</th>\n",
              "      <td>2019-12-31</td>\n",
              "      <td>AT</td>\n",
              "      <td>Austria</td>\n",
              "      <td>NaN</td>\n",
              "      <td>NaN</td>\n",
              "      <td>0.0</td>\n",
              "      <td>0.0</td>\n",
              "      <td>47.516231</td>\n",
              "      <td>14.550072</td>\n",
              "      <td>8955102.0</td>\n",
              "    </tr>\n",
              "    <tr>\n",
              "      <th>4</th>\n",
              "      <td>2019-12-31</td>\n",
              "      <td>AU</td>\n",
              "      <td>Australia</td>\n",
              "      <td>NaN</td>\n",
              "      <td>NaN</td>\n",
              "      <td>0.0</td>\n",
              "      <td>0.0</td>\n",
              "      <td>-25.274398</td>\n",
              "      <td>133.775136</td>\n",
              "      <td>25203198.0</td>\n",
              "    </tr>\n",
              "    <tr>\n",
              "      <th>...</th>\n",
              "      <td>...</td>\n",
              "      <td>...</td>\n",
              "      <td>...</td>\n",
              "      <td>...</td>\n",
              "      <td>...</td>\n",
              "      <td>...</td>\n",
              "      <td>...</td>\n",
              "      <td>...</td>\n",
              "      <td>...</td>\n",
              "      <td>...</td>\n",
              "    </tr>\n",
              "    <tr>\n",
              "      <th>13200</th>\n",
              "      <td>2020-03-31</td>\n",
              "      <td>XK</td>\n",
              "      <td>Kosovo</td>\n",
              "      <td>NaN</td>\n",
              "      <td>NaN</td>\n",
              "      <td>106.0</td>\n",
              "      <td>1.0</td>\n",
              "      <td>42.602636</td>\n",
              "      <td>20.902977</td>\n",
              "      <td>NaN</td>\n",
              "    </tr>\n",
              "    <tr>\n",
              "      <th>13201</th>\n",
              "      <td>2020-03-31</td>\n",
              "      <td>ZA</td>\n",
              "      <td>South Africa</td>\n",
              "      <td>NaN</td>\n",
              "      <td>NaN</td>\n",
              "      <td>1326.0</td>\n",
              "      <td>3.0</td>\n",
              "      <td>-30.559482</td>\n",
              "      <td>22.937506</td>\n",
              "      <td>58558270.0</td>\n",
              "    </tr>\n",
              "    <tr>\n",
              "      <th>13202</th>\n",
              "      <td>2020-03-31</td>\n",
              "      <td>ZM</td>\n",
              "      <td>Zambia</td>\n",
              "      <td>NaN</td>\n",
              "      <td>NaN</td>\n",
              "      <td>35.0</td>\n",
              "      <td>0.0</td>\n",
              "      <td>-13.133897</td>\n",
              "      <td>27.849332</td>\n",
              "      <td>17861030.0</td>\n",
              "    </tr>\n",
              "    <tr>\n",
              "      <th>13203</th>\n",
              "      <td>2020-03-31</td>\n",
              "      <td>ZW</td>\n",
              "      <td>Zimbabwe</td>\n",
              "      <td>NaN</td>\n",
              "      <td>NaN</td>\n",
              "      <td>7.0</td>\n",
              "      <td>1.0</td>\n",
              "      <td>-19.015438</td>\n",
              "      <td>29.154857</td>\n",
              "      <td>14645468.0</td>\n",
              "    </tr>\n",
              "    <tr>\n",
              "      <th>13204</th>\n",
              "      <td>2020-04-01</td>\n",
              "      <td>ES</td>\n",
              "      <td>Spain</td>\n",
              "      <td>NaN</td>\n",
              "      <td>NaN</td>\n",
              "      <td>94417.0</td>\n",
              "      <td>8189.0</td>\n",
              "      <td>40.463667</td>\n",
              "      <td>-3.749220</td>\n",
              "      <td>46736776.0</td>\n",
              "    </tr>\n",
              "  </tbody>\n",
              "</table>\n",
              "<p>13205 rows × 10 columns</p>\n",
              "</div>"
            ],
            "text/plain": [
              "             Date CountryCode  ...   Longitude  Population\n",
              "0      2019-12-31          AE  ...   53.847818   9770529.0\n",
              "1      2019-12-31          AF  ...   67.709953  38041754.0\n",
              "2      2019-12-31          AM  ...   45.038189   2957731.0\n",
              "3      2019-12-31          AT  ...   14.550072   8955102.0\n",
              "4      2019-12-31          AU  ...  133.775136  25203198.0\n",
              "...           ...         ...  ...         ...         ...\n",
              "13200  2020-03-31          XK  ...   20.902977         NaN\n",
              "13201  2020-03-31          ZA  ...   22.937506  58558270.0\n",
              "13202  2020-03-31          ZM  ...   27.849332  17861030.0\n",
              "13203  2020-03-31          ZW  ...   29.154857  14645468.0\n",
              "13204  2020-04-01          ES  ...   -3.749220  46736776.0\n",
              "\n",
              "[13205 rows x 10 columns]"
            ]
          },
          "metadata": {
            "tags": []
          },
          "execution_count": 131
        }
      ]
    },
    {
      "cell_type": "code",
      "metadata": {
        "id": "kIgCaENdPHBK",
        "colab_type": "code",
        "colab": {
          "base_uri": "https://localhost:8080/",
          "height": 427
        },
        "outputId": "90cb7962-c11a-44f1-ae2d-22ab4553386c"
      },
      "source": [
        "# Dataset mondo covid 19\n",
        "dati_province = \"https://raw.githubusercontent.com/pcm-dpc/COVID-19/master/dati-province/dpc-covid19-ita-province.csv\"\n",
        "dati_regioni = \"https://raw.githubusercontent.com/pcm-dpc/COVID-19/master/dati-regioni/dpc-covid19-ita-regioni.csv\"\n",
        "dati_italia = \"https://raw.githubusercontent.com/pcm-dpc/COVID-19/master/dati-andamento-nazionale/dpc-covid19-ita-andamento-nazionale.csv\"\n",
        "data = pd.read_csv(dati_italia)\n",
        "display(data.head(8))"
      ],
      "execution_count": null,
      "outputs": [
        {
          "output_type": "display_data",
          "data": {
            "text/html": [
              "<div>\n",
              "<style scoped>\n",
              "    .dataframe tbody tr th:only-of-type {\n",
              "        vertical-align: middle;\n",
              "    }\n",
              "\n",
              "    .dataframe tbody tr th {\n",
              "        vertical-align: top;\n",
              "    }\n",
              "\n",
              "    .dataframe thead th {\n",
              "        text-align: right;\n",
              "    }\n",
              "</style>\n",
              "<table border=\"1\" class=\"dataframe\">\n",
              "  <thead>\n",
              "    <tr style=\"text-align: right;\">\n",
              "      <th></th>\n",
              "      <th>data</th>\n",
              "      <th>stato</th>\n",
              "      <th>ricoverati_con_sintomi</th>\n",
              "      <th>terapia_intensiva</th>\n",
              "      <th>totale_ospedalizzati</th>\n",
              "      <th>isolamento_domiciliare</th>\n",
              "      <th>totale_positivi</th>\n",
              "      <th>variazione_totale_positivi</th>\n",
              "      <th>nuovi_positivi</th>\n",
              "      <th>dimessi_guariti</th>\n",
              "      <th>deceduti</th>\n",
              "      <th>totale_casi</th>\n",
              "      <th>tamponi</th>\n",
              "      <th>note_it</th>\n",
              "      <th>note_en</th>\n",
              "    </tr>\n",
              "  </thead>\n",
              "  <tbody>\n",
              "    <tr>\n",
              "      <th>0</th>\n",
              "      <td>2020-02-24T18:00:00</td>\n",
              "      <td>ITA</td>\n",
              "      <td>101</td>\n",
              "      <td>26</td>\n",
              "      <td>127</td>\n",
              "      <td>94</td>\n",
              "      <td>221</td>\n",
              "      <td>0</td>\n",
              "      <td>221</td>\n",
              "      <td>1</td>\n",
              "      <td>7</td>\n",
              "      <td>229</td>\n",
              "      <td>4324</td>\n",
              "      <td>NaN</td>\n",
              "      <td>NaN</td>\n",
              "    </tr>\n",
              "    <tr>\n",
              "      <th>1</th>\n",
              "      <td>2020-02-25T18:00:00</td>\n",
              "      <td>ITA</td>\n",
              "      <td>114</td>\n",
              "      <td>35</td>\n",
              "      <td>150</td>\n",
              "      <td>162</td>\n",
              "      <td>311</td>\n",
              "      <td>90</td>\n",
              "      <td>93</td>\n",
              "      <td>1</td>\n",
              "      <td>10</td>\n",
              "      <td>322</td>\n",
              "      <td>8623</td>\n",
              "      <td>NaN</td>\n",
              "      <td>NaN</td>\n",
              "    </tr>\n",
              "    <tr>\n",
              "      <th>2</th>\n",
              "      <td>2020-02-26T18:00:00</td>\n",
              "      <td>ITA</td>\n",
              "      <td>128</td>\n",
              "      <td>36</td>\n",
              "      <td>164</td>\n",
              "      <td>221</td>\n",
              "      <td>385</td>\n",
              "      <td>74</td>\n",
              "      <td>78</td>\n",
              "      <td>3</td>\n",
              "      <td>12</td>\n",
              "      <td>400</td>\n",
              "      <td>9587</td>\n",
              "      <td>NaN</td>\n",
              "      <td>NaN</td>\n",
              "    </tr>\n",
              "    <tr>\n",
              "      <th>3</th>\n",
              "      <td>2020-02-27T18:00:00</td>\n",
              "      <td>ITA</td>\n",
              "      <td>248</td>\n",
              "      <td>56</td>\n",
              "      <td>304</td>\n",
              "      <td>284</td>\n",
              "      <td>588</td>\n",
              "      <td>203</td>\n",
              "      <td>250</td>\n",
              "      <td>45</td>\n",
              "      <td>17</td>\n",
              "      <td>650</td>\n",
              "      <td>12014</td>\n",
              "      <td>NaN</td>\n",
              "      <td>NaN</td>\n",
              "    </tr>\n",
              "    <tr>\n",
              "      <th>4</th>\n",
              "      <td>2020-02-28T18:00:00</td>\n",
              "      <td>ITA</td>\n",
              "      <td>345</td>\n",
              "      <td>64</td>\n",
              "      <td>409</td>\n",
              "      <td>412</td>\n",
              "      <td>821</td>\n",
              "      <td>233</td>\n",
              "      <td>238</td>\n",
              "      <td>46</td>\n",
              "      <td>21</td>\n",
              "      <td>888</td>\n",
              "      <td>15695</td>\n",
              "      <td>NaN</td>\n",
              "      <td>NaN</td>\n",
              "    </tr>\n",
              "    <tr>\n",
              "      <th>5</th>\n",
              "      <td>2020-02-29T18:00:00</td>\n",
              "      <td>ITA</td>\n",
              "      <td>401</td>\n",
              "      <td>105</td>\n",
              "      <td>506</td>\n",
              "      <td>543</td>\n",
              "      <td>1049</td>\n",
              "      <td>228</td>\n",
              "      <td>240</td>\n",
              "      <td>50</td>\n",
              "      <td>29</td>\n",
              "      <td>1128</td>\n",
              "      <td>18661</td>\n",
              "      <td>NaN</td>\n",
              "      <td>NaN</td>\n",
              "    </tr>\n",
              "    <tr>\n",
              "      <th>6</th>\n",
              "      <td>2020-03-01T18:00:00</td>\n",
              "      <td>ITA</td>\n",
              "      <td>639</td>\n",
              "      <td>140</td>\n",
              "      <td>779</td>\n",
              "      <td>798</td>\n",
              "      <td>1577</td>\n",
              "      <td>528</td>\n",
              "      <td>566</td>\n",
              "      <td>83</td>\n",
              "      <td>34</td>\n",
              "      <td>1694</td>\n",
              "      <td>21127</td>\n",
              "      <td>NaN</td>\n",
              "      <td>NaN</td>\n",
              "    </tr>\n",
              "    <tr>\n",
              "      <th>7</th>\n",
              "      <td>2020-03-02T18:00:00</td>\n",
              "      <td>ITA</td>\n",
              "      <td>742</td>\n",
              "      <td>166</td>\n",
              "      <td>908</td>\n",
              "      <td>927</td>\n",
              "      <td>1835</td>\n",
              "      <td>258</td>\n",
              "      <td>342</td>\n",
              "      <td>149</td>\n",
              "      <td>52</td>\n",
              "      <td>2036</td>\n",
              "      <td>23345</td>\n",
              "      <td>NaN</td>\n",
              "      <td>NaN</td>\n",
              "    </tr>\n",
              "  </tbody>\n",
              "</table>\n",
              "</div>"
            ],
            "text/plain": [
              "                  data stato  ricoverati_con_sintomi  ...  tamponi  note_it  note_en\n",
              "0  2020-02-24T18:00:00   ITA                     101  ...     4324      NaN      NaN\n",
              "1  2020-02-25T18:00:00   ITA                     114  ...     8623      NaN      NaN\n",
              "2  2020-02-26T18:00:00   ITA                     128  ...     9587      NaN      NaN\n",
              "3  2020-02-27T18:00:00   ITA                     248  ...    12014      NaN      NaN\n",
              "4  2020-02-28T18:00:00   ITA                     345  ...    15695      NaN      NaN\n",
              "5  2020-02-29T18:00:00   ITA                     401  ...    18661      NaN      NaN\n",
              "6  2020-03-01T18:00:00   ITA                     639  ...    21127      NaN      NaN\n",
              "7  2020-03-02T18:00:00   ITA                     742  ...    23345      NaN      NaN\n",
              "\n",
              "[8 rows x 15 columns]"
            ]
          },
          "metadata": {
            "tags": []
          }
        }
      ]
    },
    {
      "cell_type": "code",
      "metadata": {
        "id": "Ob8bjg7xTMiO",
        "colab_type": "code",
        "colab": {
          "base_uri": "https://localhost:8080/",
          "height": 297
        },
        "outputId": "38b54cf6-a5a3-41b9-bab1-1ded4e8bc288"
      },
      "source": [
        "data.dtypes"
      ],
      "execution_count": null,
      "outputs": [
        {
          "output_type": "execute_result",
          "data": {
            "text/plain": [
              "data                          object\n",
              "stato                         object\n",
              "ricoverati_con_sintomi         int64\n",
              "terapia_intensiva              int64\n",
              "totale_ospedalizzati           int64\n",
              "isolamento_domiciliare         int64\n",
              "totale_positivi                int64\n",
              "variazione_totale_positivi     int64\n",
              "nuovi_positivi                 int64\n",
              "dimessi_guariti                int64\n",
              "deceduti                       int64\n",
              "totale_casi                    int64\n",
              "tamponi                        int64\n",
              "note_it                       object\n",
              "note_en                       object\n",
              "dtype: object"
            ]
          },
          "metadata": {
            "tags": []
          },
          "execution_count": 139
        }
      ]
    },
    {
      "cell_type": "code",
      "metadata": {
        "id": "hhoq9ZRwUkeO",
        "colab_type": "code",
        "colab": {
          "base_uri": "https://localhost:8080/",
          "height": 367
        },
        "outputId": "b84845e5-4ca4-4f4b-bcfa-d8842992dec3"
      },
      "source": [
        "data.info()"
      ],
      "execution_count": null,
      "outputs": [
        {
          "output_type": "stream",
          "text": [
            "<class 'pandas.core.frame.DataFrame'>\n",
            "RangeIndex: 36 entries, 0 to 35\n",
            "Data columns (total 15 columns):\n",
            "data                          36 non-null object\n",
            "stato                         36 non-null object\n",
            "ricoverati_con_sintomi        36 non-null int64\n",
            "terapia_intensiva             36 non-null int64\n",
            "totale_ospedalizzati          36 non-null int64\n",
            "isolamento_domiciliare        36 non-null int64\n",
            "totale_positivi               36 non-null int64\n",
            "variazione_totale_positivi    36 non-null int64\n",
            "nuovi_positivi                36 non-null int64\n",
            "dimessi_guariti               36 non-null int64\n",
            "deceduti                      36 non-null int64\n",
            "totale_casi                   36 non-null int64\n",
            "tamponi                       36 non-null int64\n",
            "note_it                       8 non-null object\n",
            "note_en                       8 non-null object\n",
            "dtypes: int64(11), object(4)\n",
            "memory usage: 4.3+ KB\n"
          ],
          "name": "stdout"
        }
      ]
    },
    {
      "cell_type": "code",
      "metadata": {
        "id": "3gJL4R1MSVvo",
        "colab_type": "code",
        "colab": {}
      },
      "source": [
        "data.to_excel('dati_italia.xlsx', index=False)"
      ],
      "execution_count": null,
      "outputs": []
    },
    {
      "cell_type": "code",
      "metadata": {
        "id": "rZ54gaRBUBhx",
        "colab_type": "code",
        "colab": {}
      },
      "source": [
        "data.to_csv('dati_italia.csv', index=False)"
      ],
      "execution_count": null,
      "outputs": []
    },
    {
      "cell_type": "code",
      "metadata": {
        "id": "zFesSOJwU6LF",
        "colab_type": "code",
        "colab": {}
      },
      "source": [
        "data = pd.read_excel('dati_italia.xlsx')\n",
        "data\n",
        "# Upload option"
      ],
      "execution_count": null,
      "outputs": []
    },
    {
      "cell_type": "code",
      "metadata": {
        "id": "xaI5An3kVKph",
        "colab_type": "code",
        "colab": {
          "base_uri": "https://localhost:8080/",
          "height": 176
        },
        "outputId": "9a53f382-8305-4225-edc0-029af8c7f5b9"
      },
      "source": [
        "dn = data[[\"data\", \"terapia_intensiva\"]]\n",
        "display(dn.shape)\n",
        "dn = dn.T\n",
        "display(dn)\n",
        "display(dn.shape)\n",
        "# Assegnamento importante"
      ],
      "execution_count": null,
      "outputs": [
        {
          "output_type": "display_data",
          "data": {
            "text/plain": [
              "(36, 2)"
            ]
          },
          "metadata": {
            "tags": []
          }
        },
        {
          "output_type": "display_data",
          "data": {
            "text/html": [
              "<div>\n",
              "<style scoped>\n",
              "    .dataframe tbody tr th:only-of-type {\n",
              "        vertical-align: middle;\n",
              "    }\n",
              "\n",
              "    .dataframe tbody tr th {\n",
              "        vertical-align: top;\n",
              "    }\n",
              "\n",
              "    .dataframe thead th {\n",
              "        text-align: right;\n",
              "    }\n",
              "</style>\n",
              "<table border=\"1\" class=\"dataframe\">\n",
              "  <thead>\n",
              "    <tr style=\"text-align: right;\">\n",
              "      <th></th>\n",
              "      <th>0</th>\n",
              "      <th>1</th>\n",
              "      <th>2</th>\n",
              "      <th>3</th>\n",
              "      <th>4</th>\n",
              "      <th>5</th>\n",
              "      <th>6</th>\n",
              "      <th>7</th>\n",
              "      <th>8</th>\n",
              "      <th>9</th>\n",
              "      <th>10</th>\n",
              "      <th>11</th>\n",
              "      <th>12</th>\n",
              "      <th>13</th>\n",
              "      <th>14</th>\n",
              "      <th>15</th>\n",
              "      <th>16</th>\n",
              "      <th>17</th>\n",
              "      <th>18</th>\n",
              "      <th>19</th>\n",
              "      <th>20</th>\n",
              "      <th>21</th>\n",
              "      <th>22</th>\n",
              "      <th>23</th>\n",
              "      <th>24</th>\n",
              "      <th>25</th>\n",
              "      <th>26</th>\n",
              "      <th>27</th>\n",
              "      <th>28</th>\n",
              "      <th>29</th>\n",
              "      <th>30</th>\n",
              "      <th>31</th>\n",
              "      <th>32</th>\n",
              "      <th>33</th>\n",
              "      <th>34</th>\n",
              "      <th>35</th>\n",
              "    </tr>\n",
              "  </thead>\n",
              "  <tbody>\n",
              "    <tr>\n",
              "      <th>data</th>\n",
              "      <td>2020-02-24T18:00:00</td>\n",
              "      <td>2020-02-25T18:00:00</td>\n",
              "      <td>2020-02-26T18:00:00</td>\n",
              "      <td>2020-02-27T18:00:00</td>\n",
              "      <td>2020-02-28T18:00:00</td>\n",
              "      <td>2020-02-29T18:00:00</td>\n",
              "      <td>2020-03-01T18:00:00</td>\n",
              "      <td>2020-03-02T18:00:00</td>\n",
              "      <td>2020-03-03T18:00:00</td>\n",
              "      <td>2020-03-04T18:00:00</td>\n",
              "      <td>2020-03-05T18:00:00</td>\n",
              "      <td>2020-03-06T18:00:00</td>\n",
              "      <td>2020-03-07T18:00:00</td>\n",
              "      <td>2020-03-08T18:00:00</td>\n",
              "      <td>2020-03-09T18:00:00</td>\n",
              "      <td>2020-03-10T18:00:00</td>\n",
              "      <td>2020-03-11T17:00:00</td>\n",
              "      <td>2020-03-12T17:00:00</td>\n",
              "      <td>2020-03-13T17:00:00</td>\n",
              "      <td>2020-03-14T17:00:00</td>\n",
              "      <td>2020-03-15T17:00:00</td>\n",
              "      <td>2020-03-16T17:00:00</td>\n",
              "      <td>2020-03-17T17:00:00</td>\n",
              "      <td>2020-03-18T17:00:00</td>\n",
              "      <td>2020-03-19T17:00:00</td>\n",
              "      <td>2020-03-20T17:00:00</td>\n",
              "      <td>2020-03-21T17:00:00</td>\n",
              "      <td>2020-03-22T17:00:00</td>\n",
              "      <td>2020-03-23T17:00:00</td>\n",
              "      <td>2020-03-24T17:00:00</td>\n",
              "      <td>2020-03-25T17:00:00</td>\n",
              "      <td>2020-03-26T17:00:00</td>\n",
              "      <td>2020-03-27T17:00:00</td>\n",
              "      <td>2020-03-28T17:00:00</td>\n",
              "      <td>2020-03-29T17:00:00</td>\n",
              "      <td>2020-03-30T17:00:00</td>\n",
              "    </tr>\n",
              "    <tr>\n",
              "      <th>terapia_intensiva</th>\n",
              "      <td>26</td>\n",
              "      <td>35</td>\n",
              "      <td>36</td>\n",
              "      <td>56</td>\n",
              "      <td>64</td>\n",
              "      <td>105</td>\n",
              "      <td>140</td>\n",
              "      <td>166</td>\n",
              "      <td>229</td>\n",
              "      <td>295</td>\n",
              "      <td>351</td>\n",
              "      <td>462</td>\n",
              "      <td>567</td>\n",
              "      <td>650</td>\n",
              "      <td>733</td>\n",
              "      <td>877</td>\n",
              "      <td>1028</td>\n",
              "      <td>1153</td>\n",
              "      <td>1328</td>\n",
              "      <td>1518</td>\n",
              "      <td>1672</td>\n",
              "      <td>1851</td>\n",
              "      <td>2060</td>\n",
              "      <td>2257</td>\n",
              "      <td>2498</td>\n",
              "      <td>2655</td>\n",
              "      <td>2857</td>\n",
              "      <td>3009</td>\n",
              "      <td>3204</td>\n",
              "      <td>3396</td>\n",
              "      <td>3489</td>\n",
              "      <td>3612</td>\n",
              "      <td>3732</td>\n",
              "      <td>3856</td>\n",
              "      <td>3906</td>\n",
              "      <td>3981</td>\n",
              "    </tr>\n",
              "  </tbody>\n",
              "</table>\n",
              "</div>"
            ],
            "text/plain": [
              "                                     0  ...                   35\n",
              "data               2020-02-24T18:00:00  ...  2020-03-30T17:00:00\n",
              "terapia_intensiva                   26  ...                 3981\n",
              "\n",
              "[2 rows x 36 columns]"
            ]
          },
          "metadata": {
            "tags": []
          }
        },
        {
          "output_type": "display_data",
          "data": {
            "text/plain": [
              "(2, 36)"
            ]
          },
          "metadata": {
            "tags": []
          }
        }
      ]
    },
    {
      "cell_type": "code",
      "metadata": {
        "id": "QUg_nOEYXGoX",
        "colab_type": "code",
        "colab": {
          "base_uri": "https://localhost:8080/",
          "height": 365
        },
        "outputId": "3138bbd5-f15a-4949-da5b-a3fe0b662598"
      },
      "source": [
        "# Vogliamo le ultime 5 date o le prime 5 date\n",
        "dn = data[[\"data\", \"terapia_intensiva\",\"isolamento_domiciliare\", \"ricoverati_con_sintomi\"]]\n",
        "display(dn.head(5)) # prime 5\n",
        "display(dn.tail(5)) # le ultime 5"
      ],
      "execution_count": null,
      "outputs": [
        {
          "output_type": "display_data",
          "data": {
            "text/html": [
              "<div>\n",
              "<style scoped>\n",
              "    .dataframe tbody tr th:only-of-type {\n",
              "        vertical-align: middle;\n",
              "    }\n",
              "\n",
              "    .dataframe tbody tr th {\n",
              "        vertical-align: top;\n",
              "    }\n",
              "\n",
              "    .dataframe thead th {\n",
              "        text-align: right;\n",
              "    }\n",
              "</style>\n",
              "<table border=\"1\" class=\"dataframe\">\n",
              "  <thead>\n",
              "    <tr style=\"text-align: right;\">\n",
              "      <th></th>\n",
              "      <th>data</th>\n",
              "      <th>terapia_intensiva</th>\n",
              "      <th>isolamento_domiciliare</th>\n",
              "      <th>ricoverati_con_sintomi</th>\n",
              "    </tr>\n",
              "  </thead>\n",
              "  <tbody>\n",
              "    <tr>\n",
              "      <th>0</th>\n",
              "      <td>2020-02-24T18:00:00</td>\n",
              "      <td>26</td>\n",
              "      <td>94</td>\n",
              "      <td>101</td>\n",
              "    </tr>\n",
              "    <tr>\n",
              "      <th>1</th>\n",
              "      <td>2020-02-25T18:00:00</td>\n",
              "      <td>35</td>\n",
              "      <td>162</td>\n",
              "      <td>114</td>\n",
              "    </tr>\n",
              "    <tr>\n",
              "      <th>2</th>\n",
              "      <td>2020-02-26T18:00:00</td>\n",
              "      <td>36</td>\n",
              "      <td>221</td>\n",
              "      <td>128</td>\n",
              "    </tr>\n",
              "    <tr>\n",
              "      <th>3</th>\n",
              "      <td>2020-02-27T18:00:00</td>\n",
              "      <td>56</td>\n",
              "      <td>284</td>\n",
              "      <td>248</td>\n",
              "    </tr>\n",
              "    <tr>\n",
              "      <th>4</th>\n",
              "      <td>2020-02-28T18:00:00</td>\n",
              "      <td>64</td>\n",
              "      <td>412</td>\n",
              "      <td>345</td>\n",
              "    </tr>\n",
              "  </tbody>\n",
              "</table>\n",
              "</div>"
            ],
            "text/plain": [
              "                  data  ...  ricoverati_con_sintomi\n",
              "0  2020-02-24T18:00:00  ...                     101\n",
              "1  2020-02-25T18:00:00  ...                     114\n",
              "2  2020-02-26T18:00:00  ...                     128\n",
              "3  2020-02-27T18:00:00  ...                     248\n",
              "4  2020-02-28T18:00:00  ...                     345\n",
              "\n",
              "[5 rows x 4 columns]"
            ]
          },
          "metadata": {
            "tags": []
          }
        },
        {
          "output_type": "display_data",
          "data": {
            "text/html": [
              "<div>\n",
              "<style scoped>\n",
              "    .dataframe tbody tr th:only-of-type {\n",
              "        vertical-align: middle;\n",
              "    }\n",
              "\n",
              "    .dataframe tbody tr th {\n",
              "        vertical-align: top;\n",
              "    }\n",
              "\n",
              "    .dataframe thead th {\n",
              "        text-align: right;\n",
              "    }\n",
              "</style>\n",
              "<table border=\"1\" class=\"dataframe\">\n",
              "  <thead>\n",
              "    <tr style=\"text-align: right;\">\n",
              "      <th></th>\n",
              "      <th>data</th>\n",
              "      <th>terapia_intensiva</th>\n",
              "      <th>isolamento_domiciliare</th>\n",
              "      <th>ricoverati_con_sintomi</th>\n",
              "    </tr>\n",
              "  </thead>\n",
              "  <tbody>\n",
              "    <tr>\n",
              "      <th>31</th>\n",
              "      <td>2020-03-26T17:00:00</td>\n",
              "      <td>3612</td>\n",
              "      <td>33648</td>\n",
              "      <td>24753</td>\n",
              "    </tr>\n",
              "    <tr>\n",
              "      <th>32</th>\n",
              "      <td>2020-03-27T17:00:00</td>\n",
              "      <td>3732</td>\n",
              "      <td>36653</td>\n",
              "      <td>26029</td>\n",
              "    </tr>\n",
              "    <tr>\n",
              "      <th>33</th>\n",
              "      <td>2020-03-28T17:00:00</td>\n",
              "      <td>3856</td>\n",
              "      <td>39533</td>\n",
              "      <td>26676</td>\n",
              "    </tr>\n",
              "    <tr>\n",
              "      <th>34</th>\n",
              "      <td>2020-03-29T17:00:00</td>\n",
              "      <td>3906</td>\n",
              "      <td>42588</td>\n",
              "      <td>27386</td>\n",
              "    </tr>\n",
              "    <tr>\n",
              "      <th>35</th>\n",
              "      <td>2020-03-30T17:00:00</td>\n",
              "      <td>3981</td>\n",
              "      <td>43752</td>\n",
              "      <td>27795</td>\n",
              "    </tr>\n",
              "  </tbody>\n",
              "</table>\n",
              "</div>"
            ],
            "text/plain": [
              "                   data  ...  ricoverati_con_sintomi\n",
              "31  2020-03-26T17:00:00  ...                   24753\n",
              "32  2020-03-27T17:00:00  ...                   26029\n",
              "33  2020-03-28T17:00:00  ...                   26676\n",
              "34  2020-03-29T17:00:00  ...                   27386\n",
              "35  2020-03-30T17:00:00  ...                   27795\n",
              "\n",
              "[5 rows x 4 columns]"
            ]
          },
          "metadata": {
            "tags": []
          }
        }
      ]
    },
    {
      "cell_type": "code",
      "metadata": {
        "id": "FUwTaa5rYira",
        "colab_type": "code",
        "colab": {
          "base_uri": "https://localhost:8080/",
          "height": 220
        },
        "outputId": "beaec369-7b77-4cd7-f965-b0febedb80ea"
      },
      "source": [
        "# Select specific rows columns\n",
        "sel = dn.loc[data[\"ricoverati_con_sintomi\"]>100]\n",
        "#sel = dn.loc[data[\"ricoverati_con_sintomi\"]>100, \"isolamento_domiciliare\"]\n",
        "sel"
      ],
      "execution_count": null,
      "outputs": [
        {
          "output_type": "execute_result",
          "data": {
            "text/html": [
              "<div>\n",
              "<style scoped>\n",
              "    .dataframe tbody tr th:only-of-type {\n",
              "        vertical-align: middle;\n",
              "    }\n",
              "\n",
              "    .dataframe tbody tr th {\n",
              "        vertical-align: top;\n",
              "    }\n",
              "\n",
              "    .dataframe thead th {\n",
              "        text-align: right;\n",
              "    }\n",
              "</style>\n",
              "<table border=\"1\" class=\"dataframe\">\n",
              "  <thead>\n",
              "    <tr style=\"text-align: right;\">\n",
              "      <th></th>\n",
              "      <th>data</th>\n",
              "      <th>isolamento_domiciliare</th>\n",
              "    </tr>\n",
              "  </thead>\n",
              "  <tbody>\n",
              "    <tr>\n",
              "      <th>24</th>\n",
              "      <td>2020-03-19T17:00:00</td>\n",
              "      <td>14935</td>\n",
              "    </tr>\n",
              "    <tr>\n",
              "      <th>25</th>\n",
              "      <td>2020-03-20T17:00:00</td>\n",
              "      <td>19185</td>\n",
              "    </tr>\n",
              "    <tr>\n",
              "      <th>26</th>\n",
              "      <td>2020-03-21T17:00:00</td>\n",
              "      <td>22116</td>\n",
              "    </tr>\n",
              "    <tr>\n",
              "      <th>27</th>\n",
              "      <td>2020-03-22T17:00:00</td>\n",
              "      <td>23783</td>\n",
              "    </tr>\n",
              "    <tr>\n",
              "      <th>28</th>\n",
              "      <td>2020-03-23T17:00:00</td>\n",
              "      <td>26522</td>\n",
              "    </tr>\n",
              "    <tr>\n",
              "      <th>29</th>\n",
              "      <td>2020-03-24T17:00:00</td>\n",
              "      <td>28697</td>\n",
              "    </tr>\n",
              "  </tbody>\n",
              "</table>\n",
              "</div>"
            ],
            "text/plain": [
              "                   data  isolamento_domiciliare\n",
              "24  2020-03-19T17:00:00                   14935\n",
              "25  2020-03-20T17:00:00                   19185\n",
              "26  2020-03-21T17:00:00                   22116\n",
              "27  2020-03-22T17:00:00                   23783\n",
              "28  2020-03-23T17:00:00                   26522\n",
              "29  2020-03-24T17:00:00                   28697"
            ]
          },
          "metadata": {
            "tags": []
          },
          "execution_count": 207
        }
      ]
    },
    {
      "cell_type": "code",
      "metadata": {
        "id": "FQTg-C0gYptk",
        "colab_type": "code",
        "colab": {
          "base_uri": "https://localhost:8080/",
          "height": 255
        },
        "outputId": "4c6c450e-625a-4581-df01-d0cbce3c2cab"
      },
      "source": [
        "# Select specific row columns (da a (data specifica))\n",
        "#2020-03-19T17:00:00\t\n",
        "#2020-03-25T17:00:00\n",
        "# index[0] This will return the index of the first row of the result...\n",
        "dn = data[[\"data\", \"terapia_intensiva\",\"isolamento_domiciliare\", \"ricoverati_con_sintomi\"]]\n",
        "\n",
        "idxstart = dn[dn[\"data\"]==\"2020-03-19T17:00:00\"].index[0]\n",
        "idxstop = dn[dn[\"data\"]==\"2020-03-25T17:00:00\"].index[0]\n",
        "print(idxstart,idxstop)\n",
        "\n",
        "#dn = dn.iloc[idxstart:idxstop,:]  # row da data scelta start a data scelta stop, colonne tutte\n",
        "#dn = dn.iloc[idxstart:idxstop,:-1]  # -1 rimuove la colonna\n",
        "#dn = dn.iloc[idxstart:idxstop,2:4]  # 4 colonne \n",
        "dn = dn.iloc[idxstart:idxstop,[0,2]]  # 4 colonne \n",
        "dn\n"
      ],
      "execution_count": null,
      "outputs": [
        {
          "output_type": "stream",
          "text": [
            "24 30\n",
            "ERROR! Session/line number was not unique in database. History logging moved to new session 66\n"
          ],
          "name": "stdout"
        },
        {
          "output_type": "execute_result",
          "data": {
            "text/html": [
              "<div>\n",
              "<style scoped>\n",
              "    .dataframe tbody tr th:only-of-type {\n",
              "        vertical-align: middle;\n",
              "    }\n",
              "\n",
              "    .dataframe tbody tr th {\n",
              "        vertical-align: top;\n",
              "    }\n",
              "\n",
              "    .dataframe thead th {\n",
              "        text-align: right;\n",
              "    }\n",
              "</style>\n",
              "<table border=\"1\" class=\"dataframe\">\n",
              "  <thead>\n",
              "    <tr style=\"text-align: right;\">\n",
              "      <th></th>\n",
              "      <th>data</th>\n",
              "      <th>isolamento_domiciliare</th>\n",
              "    </tr>\n",
              "  </thead>\n",
              "  <tbody>\n",
              "    <tr>\n",
              "      <th>24</th>\n",
              "      <td>2020-03-19T17:00:00</td>\n",
              "      <td>14935</td>\n",
              "    </tr>\n",
              "    <tr>\n",
              "      <th>25</th>\n",
              "      <td>2020-03-20T17:00:00</td>\n",
              "      <td>19185</td>\n",
              "    </tr>\n",
              "    <tr>\n",
              "      <th>26</th>\n",
              "      <td>2020-03-21T17:00:00</td>\n",
              "      <td>22116</td>\n",
              "    </tr>\n",
              "    <tr>\n",
              "      <th>27</th>\n",
              "      <td>2020-03-22T17:00:00</td>\n",
              "      <td>23783</td>\n",
              "    </tr>\n",
              "    <tr>\n",
              "      <th>28</th>\n",
              "      <td>2020-03-23T17:00:00</td>\n",
              "      <td>26522</td>\n",
              "    </tr>\n",
              "    <tr>\n",
              "      <th>29</th>\n",
              "      <td>2020-03-24T17:00:00</td>\n",
              "      <td>28697</td>\n",
              "    </tr>\n",
              "  </tbody>\n",
              "</table>\n",
              "</div>"
            ],
            "text/plain": [
              "                   data  isolamento_domiciliare\n",
              "24  2020-03-19T17:00:00                   14935\n",
              "25  2020-03-20T17:00:00                   19185\n",
              "26  2020-03-21T17:00:00                   22116\n",
              "27  2020-03-22T17:00:00                   23783\n",
              "28  2020-03-23T17:00:00                   26522\n",
              "29  2020-03-24T17:00:00                   28697"
            ]
          },
          "metadata": {
            "tags": []
          },
          "execution_count": 206
        }
      ]
    },
    {
      "cell_type": "markdown",
      "metadata": {
        "id": "ToiP768aggNk",
        "colab_type": "text"
      },
      "source": [
        "## Grafici usando pandas e matplotlib"
      ]
    },
    {
      "cell_type": "code",
      "metadata": {
        "id": "Zz_mTTuDgmP5",
        "colab_type": "code",
        "colab": {
          "base_uri": "https://localhost:8080/",
          "height": 367
        },
        "outputId": "b9909dfc-d7ff-4883-cb2a-b1f851e8e39b"
      },
      "source": [
        "data.info()\n"
      ],
      "execution_count": null,
      "outputs": [
        {
          "output_type": "stream",
          "text": [
            "<class 'pandas.core.frame.DataFrame'>\n",
            "RangeIndex: 37 entries, 0 to 36\n",
            "Data columns (total 15 columns):\n",
            "data                          37 non-null object\n",
            "stato                         37 non-null object\n",
            "ricoverati_con_sintomi        37 non-null int64\n",
            "terapia_intensiva             37 non-null int64\n",
            "totale_ospedalizzati          37 non-null int64\n",
            "isolamento_domiciliare        37 non-null int64\n",
            "totale_positivi               37 non-null int64\n",
            "variazione_totale_positivi    37 non-null int64\n",
            "nuovi_positivi                37 non-null int64\n",
            "dimessi_guariti               37 non-null int64\n",
            "deceduti                      37 non-null int64\n",
            "totale_casi                   37 non-null int64\n",
            "tamponi                       37 non-null int64\n",
            "note_it                       8 non-null object\n",
            "note_en                       8 non-null object\n",
            "dtypes: int64(11), object(4)\n",
            "memory usage: 4.5+ KB\n"
          ],
          "name": "stdout"
        }
      ]
    },
    {
      "cell_type": "code",
      "metadata": {
        "id": "DMu0j-AdiuTE",
        "colab_type": "code",
        "colab": {
          "base_uri": "https://localhost:8080/",
          "height": 1000
        },
        "outputId": "0257a060-a6ab-415a-e65c-8314814038ef"
      },
      "source": [
        "dn = data[[\"data\", \"totale_casi\", \"deceduti\",\"totale_positivi\"]]\n",
        "display(dn)"
      ],
      "execution_count": null,
      "outputs": [
        {
          "output_type": "display_data",
          "data": {
            "text/html": [
              "<div>\n",
              "<style scoped>\n",
              "    .dataframe tbody tr th:only-of-type {\n",
              "        vertical-align: middle;\n",
              "    }\n",
              "\n",
              "    .dataframe tbody tr th {\n",
              "        vertical-align: top;\n",
              "    }\n",
              "\n",
              "    .dataframe thead th {\n",
              "        text-align: right;\n",
              "    }\n",
              "</style>\n",
              "<table border=\"1\" class=\"dataframe\">\n",
              "  <thead>\n",
              "    <tr style=\"text-align: right;\">\n",
              "      <th></th>\n",
              "      <th>data</th>\n",
              "      <th>totale_casi</th>\n",
              "      <th>deceduti</th>\n",
              "      <th>totale_positivi</th>\n",
              "    </tr>\n",
              "  </thead>\n",
              "  <tbody>\n",
              "    <tr>\n",
              "      <th>0</th>\n",
              "      <td>2020-02-24T18:00:00</td>\n",
              "      <td>229</td>\n",
              "      <td>7</td>\n",
              "      <td>221</td>\n",
              "    </tr>\n",
              "    <tr>\n",
              "      <th>1</th>\n",
              "      <td>2020-02-25T18:00:00</td>\n",
              "      <td>322</td>\n",
              "      <td>10</td>\n",
              "      <td>311</td>\n",
              "    </tr>\n",
              "    <tr>\n",
              "      <th>2</th>\n",
              "      <td>2020-02-26T18:00:00</td>\n",
              "      <td>400</td>\n",
              "      <td>12</td>\n",
              "      <td>385</td>\n",
              "    </tr>\n",
              "    <tr>\n",
              "      <th>3</th>\n",
              "      <td>2020-02-27T18:00:00</td>\n",
              "      <td>650</td>\n",
              "      <td>17</td>\n",
              "      <td>588</td>\n",
              "    </tr>\n",
              "    <tr>\n",
              "      <th>4</th>\n",
              "      <td>2020-02-28T18:00:00</td>\n",
              "      <td>888</td>\n",
              "      <td>21</td>\n",
              "      <td>821</td>\n",
              "    </tr>\n",
              "    <tr>\n",
              "      <th>5</th>\n",
              "      <td>2020-02-29T18:00:00</td>\n",
              "      <td>1128</td>\n",
              "      <td>29</td>\n",
              "      <td>1049</td>\n",
              "    </tr>\n",
              "    <tr>\n",
              "      <th>6</th>\n",
              "      <td>2020-03-01T18:00:00</td>\n",
              "      <td>1694</td>\n",
              "      <td>34</td>\n",
              "      <td>1577</td>\n",
              "    </tr>\n",
              "    <tr>\n",
              "      <th>7</th>\n",
              "      <td>2020-03-02T18:00:00</td>\n",
              "      <td>2036</td>\n",
              "      <td>52</td>\n",
              "      <td>1835</td>\n",
              "    </tr>\n",
              "    <tr>\n",
              "      <th>8</th>\n",
              "      <td>2020-03-03T18:00:00</td>\n",
              "      <td>2502</td>\n",
              "      <td>79</td>\n",
              "      <td>2263</td>\n",
              "    </tr>\n",
              "    <tr>\n",
              "      <th>9</th>\n",
              "      <td>2020-03-04T18:00:00</td>\n",
              "      <td>3089</td>\n",
              "      <td>107</td>\n",
              "      <td>2706</td>\n",
              "    </tr>\n",
              "    <tr>\n",
              "      <th>10</th>\n",
              "      <td>2020-03-05T18:00:00</td>\n",
              "      <td>3858</td>\n",
              "      <td>148</td>\n",
              "      <td>3296</td>\n",
              "    </tr>\n",
              "    <tr>\n",
              "      <th>11</th>\n",
              "      <td>2020-03-06T18:00:00</td>\n",
              "      <td>4636</td>\n",
              "      <td>197</td>\n",
              "      <td>3916</td>\n",
              "    </tr>\n",
              "    <tr>\n",
              "      <th>12</th>\n",
              "      <td>2020-03-07T18:00:00</td>\n",
              "      <td>5883</td>\n",
              "      <td>233</td>\n",
              "      <td>5061</td>\n",
              "    </tr>\n",
              "    <tr>\n",
              "      <th>13</th>\n",
              "      <td>2020-03-08T18:00:00</td>\n",
              "      <td>7375</td>\n",
              "      <td>366</td>\n",
              "      <td>6387</td>\n",
              "    </tr>\n",
              "    <tr>\n",
              "      <th>14</th>\n",
              "      <td>2020-03-09T18:00:00</td>\n",
              "      <td>9172</td>\n",
              "      <td>463</td>\n",
              "      <td>7985</td>\n",
              "    </tr>\n",
              "    <tr>\n",
              "      <th>15</th>\n",
              "      <td>2020-03-10T18:00:00</td>\n",
              "      <td>10149</td>\n",
              "      <td>631</td>\n",
              "      <td>8514</td>\n",
              "    </tr>\n",
              "    <tr>\n",
              "      <th>16</th>\n",
              "      <td>2020-03-11T17:00:00</td>\n",
              "      <td>12462</td>\n",
              "      <td>827</td>\n",
              "      <td>10590</td>\n",
              "    </tr>\n",
              "    <tr>\n",
              "      <th>17</th>\n",
              "      <td>2020-03-12T17:00:00</td>\n",
              "      <td>15113</td>\n",
              "      <td>1016</td>\n",
              "      <td>12839</td>\n",
              "    </tr>\n",
              "    <tr>\n",
              "      <th>18</th>\n",
              "      <td>2020-03-13T17:00:00</td>\n",
              "      <td>17660</td>\n",
              "      <td>1266</td>\n",
              "      <td>14955</td>\n",
              "    </tr>\n",
              "    <tr>\n",
              "      <th>19</th>\n",
              "      <td>2020-03-14T17:00:00</td>\n",
              "      <td>21157</td>\n",
              "      <td>1441</td>\n",
              "      <td>17750</td>\n",
              "    </tr>\n",
              "    <tr>\n",
              "      <th>20</th>\n",
              "      <td>2020-03-15T17:00:00</td>\n",
              "      <td>24747</td>\n",
              "      <td>1809</td>\n",
              "      <td>20603</td>\n",
              "    </tr>\n",
              "    <tr>\n",
              "      <th>21</th>\n",
              "      <td>2020-03-16T17:00:00</td>\n",
              "      <td>27980</td>\n",
              "      <td>2158</td>\n",
              "      <td>23073</td>\n",
              "    </tr>\n",
              "    <tr>\n",
              "      <th>22</th>\n",
              "      <td>2020-03-17T17:00:00</td>\n",
              "      <td>31506</td>\n",
              "      <td>2503</td>\n",
              "      <td>26062</td>\n",
              "    </tr>\n",
              "    <tr>\n",
              "      <th>23</th>\n",
              "      <td>2020-03-18T17:00:00</td>\n",
              "      <td>35713</td>\n",
              "      <td>2978</td>\n",
              "      <td>28710</td>\n",
              "    </tr>\n",
              "    <tr>\n",
              "      <th>24</th>\n",
              "      <td>2020-03-19T17:00:00</td>\n",
              "      <td>41035</td>\n",
              "      <td>3405</td>\n",
              "      <td>33190</td>\n",
              "    </tr>\n",
              "    <tr>\n",
              "      <th>25</th>\n",
              "      <td>2020-03-20T17:00:00</td>\n",
              "      <td>47021</td>\n",
              "      <td>4032</td>\n",
              "      <td>37860</td>\n",
              "    </tr>\n",
              "    <tr>\n",
              "      <th>26</th>\n",
              "      <td>2020-03-21T17:00:00</td>\n",
              "      <td>53578</td>\n",
              "      <td>4825</td>\n",
              "      <td>42681</td>\n",
              "    </tr>\n",
              "    <tr>\n",
              "      <th>27</th>\n",
              "      <td>2020-03-22T17:00:00</td>\n",
              "      <td>59138</td>\n",
              "      <td>5476</td>\n",
              "      <td>46638</td>\n",
              "    </tr>\n",
              "    <tr>\n",
              "      <th>28</th>\n",
              "      <td>2020-03-23T17:00:00</td>\n",
              "      <td>63927</td>\n",
              "      <td>6077</td>\n",
              "      <td>50418</td>\n",
              "    </tr>\n",
              "    <tr>\n",
              "      <th>29</th>\n",
              "      <td>2020-03-24T17:00:00</td>\n",
              "      <td>69176</td>\n",
              "      <td>6820</td>\n",
              "      <td>54030</td>\n",
              "    </tr>\n",
              "    <tr>\n",
              "      <th>30</th>\n",
              "      <td>2020-03-25T17:00:00</td>\n",
              "      <td>74386</td>\n",
              "      <td>7503</td>\n",
              "      <td>57521</td>\n",
              "    </tr>\n",
              "    <tr>\n",
              "      <th>31</th>\n",
              "      <td>2020-03-26T17:00:00</td>\n",
              "      <td>80539</td>\n",
              "      <td>8165</td>\n",
              "      <td>62013</td>\n",
              "    </tr>\n",
              "    <tr>\n",
              "      <th>32</th>\n",
              "      <td>2020-03-27T17:00:00</td>\n",
              "      <td>86498</td>\n",
              "      <td>9134</td>\n",
              "      <td>66414</td>\n",
              "    </tr>\n",
              "    <tr>\n",
              "      <th>33</th>\n",
              "      <td>2020-03-28T17:00:00</td>\n",
              "      <td>92472</td>\n",
              "      <td>10023</td>\n",
              "      <td>70065</td>\n",
              "    </tr>\n",
              "    <tr>\n",
              "      <th>34</th>\n",
              "      <td>2020-03-29T17:00:00</td>\n",
              "      <td>97689</td>\n",
              "      <td>10779</td>\n",
              "      <td>73880</td>\n",
              "    </tr>\n",
              "    <tr>\n",
              "      <th>35</th>\n",
              "      <td>2020-03-30T17:00:00</td>\n",
              "      <td>101739</td>\n",
              "      <td>11591</td>\n",
              "      <td>75528</td>\n",
              "    </tr>\n",
              "    <tr>\n",
              "      <th>36</th>\n",
              "      <td>2020-03-31T17:00:00</td>\n",
              "      <td>105792</td>\n",
              "      <td>12428</td>\n",
              "      <td>77635</td>\n",
              "    </tr>\n",
              "  </tbody>\n",
              "</table>\n",
              "</div>"
            ],
            "text/plain": [
              "                   data  totale_casi  deceduti  totale_positivi\n",
              "0   2020-02-24T18:00:00          229         7              221\n",
              "1   2020-02-25T18:00:00          322        10              311\n",
              "2   2020-02-26T18:00:00          400        12              385\n",
              "3   2020-02-27T18:00:00          650        17              588\n",
              "4   2020-02-28T18:00:00          888        21              821\n",
              "5   2020-02-29T18:00:00         1128        29             1049\n",
              "6   2020-03-01T18:00:00         1694        34             1577\n",
              "7   2020-03-02T18:00:00         2036        52             1835\n",
              "8   2020-03-03T18:00:00         2502        79             2263\n",
              "9   2020-03-04T18:00:00         3089       107             2706\n",
              "10  2020-03-05T18:00:00         3858       148             3296\n",
              "11  2020-03-06T18:00:00         4636       197             3916\n",
              "12  2020-03-07T18:00:00         5883       233             5061\n",
              "13  2020-03-08T18:00:00         7375       366             6387\n",
              "14  2020-03-09T18:00:00         9172       463             7985\n",
              "15  2020-03-10T18:00:00        10149       631             8514\n",
              "16  2020-03-11T17:00:00        12462       827            10590\n",
              "17  2020-03-12T17:00:00        15113      1016            12839\n",
              "18  2020-03-13T17:00:00        17660      1266            14955\n",
              "19  2020-03-14T17:00:00        21157      1441            17750\n",
              "20  2020-03-15T17:00:00        24747      1809            20603\n",
              "21  2020-03-16T17:00:00        27980      2158            23073\n",
              "22  2020-03-17T17:00:00        31506      2503            26062\n",
              "23  2020-03-18T17:00:00        35713      2978            28710\n",
              "24  2020-03-19T17:00:00        41035      3405            33190\n",
              "25  2020-03-20T17:00:00        47021      4032            37860\n",
              "26  2020-03-21T17:00:00        53578      4825            42681\n",
              "27  2020-03-22T17:00:00        59138      5476            46638\n",
              "28  2020-03-23T17:00:00        63927      6077            50418\n",
              "29  2020-03-24T17:00:00        69176      6820            54030\n",
              "30  2020-03-25T17:00:00        74386      7503            57521\n",
              "31  2020-03-26T17:00:00        80539      8165            62013\n",
              "32  2020-03-27T17:00:00        86498      9134            66414\n",
              "33  2020-03-28T17:00:00        92472     10023            70065\n",
              "34  2020-03-29T17:00:00        97689     10779            73880\n",
              "35  2020-03-30T17:00:00       101739     11591            75528\n",
              "36  2020-03-31T17:00:00       105792     12428            77635"
            ]
          },
          "metadata": {
            "tags": []
          }
        }
      ]
    },
    {
      "cell_type": "code",
      "metadata": {
        "id": "e9nl2oahW7Pt",
        "colab_type": "code",
        "colab": {}
      },
      "source": [
        ""
      ],
      "execution_count": null,
      "outputs": []
    }
  ]
}